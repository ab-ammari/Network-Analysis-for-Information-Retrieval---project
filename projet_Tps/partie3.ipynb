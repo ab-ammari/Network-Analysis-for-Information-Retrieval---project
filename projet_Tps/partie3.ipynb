{
 "cells": [
  {
   "cell_type": "markdown",
   "metadata": {},
   "source": [
    "# Mise en place d'un moteur de recherche"
   ]
  },
  {
   "cell_type": "code",
   "execution_count": 1,
   "metadata": {},
   "outputs": [
    {
     "name": "stderr",
     "output_type": "stream",
     "text": [
      "[nltk_data] Downloading package punkt to\n",
      "[nltk_data]     C:\\Users\\pc190\\AppData\\Roaming\\nltk_data...\n",
      "[nltk_data]   Package punkt is already up-to-date!\n",
      "[nltk_data] Downloading package stopwords to\n",
      "[nltk_data]     C:\\Users\\pc190\\AppData\\Roaming\\nltk_data...\n",
      "[nltk_data]   Package stopwords is already up-to-date!\n",
      "[nltk_data] Downloading package wordnet to\n",
      "[nltk_data]     C:\\Users\\pc190\\AppData\\Roaming\\nltk_data...\n",
      "[nltk_data]   Package wordnet is already up-to-date!\n"
     ]
    },
    {
     "data": {
      "text/plain": [
       "True"
      ]
     },
     "execution_count": 1,
     "metadata": {},
     "output_type": "execute_result"
    }
   ],
   "source": [
    "from src.search_engine import *\n",
    "\n",
    "# Téléchargement des ressources NLTK nécessaires\n",
    "nltk.download('punkt')\n",
    "nltk.download('stopwords')\n",
    "nltk.download('wordnet')"
   ]
  },
  {
   "cell_type": "markdown",
   "metadata": {},
   "source": [
    "## Chargement des données"
   ]
  },
  {
   "cell_type": "code",
   "execution_count": 2,
   "metadata": {},
   "outputs": [
    {
     "name": "stdout",
     "output_type": "stream",
     "text": [
      "Données chargées avec succès. Shape: (23702, 11)\n"
     ]
    }
   ],
   "source": [
    "# 1. Chargement des données\n",
    "input_file = \"articles_processed.pkl\"\n",
    "try:\n",
    "    df = pd.read_pickle(input_file)\n",
    "    print(f\"Données chargées avec succès. Shape: {df.shape}\")\n",
    "except Exception as e:\n",
    "    print(f\"Erreur lors du chargement des données: {e}\")"
   ]
  },
  {
   "cell_type": "markdown",
   "metadata": {},
   "source": [
    "## Préparation des données"
   ]
  },
  {
   "cell_type": "code",
   "execution_count": 3,
   "metadata": {},
   "outputs": [],
   "source": [
    "# 2. Préparation des données\n",
    "df = prepare_combined_text(df)"
   ]
  },
  {
   "cell_type": "markdown",
   "metadata": {},
   "source": [
    "## Création et entraînement du moteur de recherche principal"
   ]
  },
  {
   "cell_type": "code",
   "execution_count": 4,
   "metadata": {},
   "outputs": [
    {
     "name": "stdout",
     "output_type": "stream",
     "text": [
      "Vectorisation des documents avec Configuration: TF-IDF, Stemming, sans stopwords, min_df=5, max_df=0.95, similarité=cosine, vocabulaire=Pas de limite...\n"
     ]
    },
    {
     "name": "stderr",
     "output_type": "stream",
     "text": [
      "c:\\Users\\pc190\\Anaconda\\Lib\\site-packages\\sklearn\\feature_extraction\\text.py:517: UserWarning: The parameter 'token_pattern' will not be used since 'tokenizer' is not None'\n",
      "  warnings.warn(\n",
      "c:\\Users\\pc190\\Anaconda\\Lib\\site-packages\\sklearn\\feature_extraction\\text.py:402: UserWarning: Your stop_words may be inconsistent with your preprocessing. Tokenizing the stop words generated tokens ['abov', 'analysi', 'ani', 'base', 'becaus', 'befor', 'doe', 'dure', 'figur', 'ha', 'hi', 'onc', 'onli', 'ourselv', 'propos', 'result', 'studi', 'tabl', 'themselv', 'thi', 'use', 'veri', 'wa', 'whi', 'yourselv'] not in stop_words.\n",
      "  warnings.warn(\n"
     ]
    },
    {
     "name": "stdout",
     "output_type": "stream",
     "text": [
      "Matrice documents-termes: 23702 documents × 7666 termes\n",
      "Densité de la matrice: 0.0053\n"
     ]
    },
    {
     "data": {
      "text/plain": [
       "<src.search_engine.SearchEngine at 0x24f56a33530>"
      ]
     },
     "execution_count": 4,
     "metadata": {},
     "output_type": "execute_result"
    }
   ],
   "source": [
    "# 3. Création et entraînement du moteur de recherche principal\n",
    "# Vous pouvez choisir la configuration qui vous convient\n",
    "engine = SearchEngine(\n",
    "    use_tfidf=True,           # TF-IDF (True) ou TF (False)\n",
    "    min_df=5,                 # Fréquence min des termes (5 = apparaît dans au moins 5 documents)\n",
    "    max_df=0.95,              # Fréquence max des termes (0.95 = apparaît dans max 95% des documents)\n",
    "    use_stemming=True,        # Stemming (True) ou Lemmatisation (False)\n",
    "    remove_stopwords=True,    # Suppression des mots-outils\n",
    "    similarity_metric='cosine' # 'cosine' ou 'euclidean'\n",
    ")\n",
    "engine.fit(df)"
   ]
  },
  {
   "cell_type": "markdown",
   "metadata": {},
   "source": [
    "## Recherche avec une requête d'exemple"
   ]
  },
  {
   "cell_type": "code",
   "execution_count": 5,
   "metadata": {},
   "outputs": [
    {
     "name": "stdout",
     "output_type": "stream",
     "text": [
      "Recherche effectuée en 0.019 secondes\n",
      "Nombre de résultats: 10\n",
      "\n",
      "Résultats pour la requête: deep learning neural networks\n"
     ]
    },
    {
     "data": {
      "text/html": [
       "<div>\n",
       "<style scoped>\n",
       "    .dataframe tbody tr th:only-of-type {\n",
       "        vertical-align: middle;\n",
       "    }\n",
       "\n",
       "    .dataframe tbody tr th {\n",
       "        vertical-align: top;\n",
       "    }\n",
       "\n",
       "    .dataframe thead th {\n",
       "        text-align: right;\n",
       "    }\n",
       "</style>\n",
       "<table border=\"1\" class=\"dataframe\">\n",
       "  <thead>\n",
       "    <tr style=\"text-align: right;\">\n",
       "      <th></th>\n",
       "      <th>rank</th>\n",
       "      <th>score</th>\n",
       "      <th>title</th>\n",
       "      <th>authors</th>\n",
       "      <th>venue</th>\n",
       "    </tr>\n",
       "  </thead>\n",
       "  <tbody>\n",
       "    <tr>\n",
       "      <th>0</th>\n",
       "      <td>1</td>\n",
       "      <td>0.734705</td>\n",
       "      <td>A tool for Emergency Detection with Deep Learn...</td>\n",
       "      <td>Emanuele Cipolla, Riccardo Rizzo, Dario Stabil...</td>\n",
       "      <td></td>\n",
       "    </tr>\n",
       "    <tr>\n",
       "      <th>1</th>\n",
       "      <td>2</td>\n",
       "      <td>0.696641</td>\n",
       "      <td>Face Deidentification with Generative Deep Neu...</td>\n",
       "      <td>Blaž Meden, Refik Mallı, Sebastjan Fabijan, Ha...</td>\n",
       "      <td>Iet Signal Processing</td>\n",
       "    </tr>\n",
       "    <tr>\n",
       "      <th>2</th>\n",
       "      <td>3</td>\n",
       "      <td>0.615467</td>\n",
       "      <td>Geographical topic learning for social images ...</td>\n",
       "      <td>Jiangfan Feng, Xin Xu</td>\n",
       "      <td>Journal of Electronic Imaging</td>\n",
       "    </tr>\n",
       "    <tr>\n",
       "      <th>3</th>\n",
       "      <td>4</td>\n",
       "      <td>0.614484</td>\n",
       "      <td>Toolkits and Libraries for Deep Learning</td>\n",
       "      <td>Bradley J. Erickson, Panagiotis Korfiatis, Zey...</td>\n",
       "      <td>Journal of Digital Imaging</td>\n",
       "    </tr>\n",
       "    <tr>\n",
       "      <th>4</th>\n",
       "      <td>5</td>\n",
       "      <td>0.596158</td>\n",
       "      <td>PatternNet: Visual Pattern Mining with Deep Ne...</td>\n",
       "      <td>Hongzhi Li, Joseph G. Ellis, Lei Zhang, Shih-F...</td>\n",
       "      <td></td>\n",
       "    </tr>\n",
       "    <tr>\n",
       "      <th>5</th>\n",
       "      <td>6</td>\n",
       "      <td>0.571471</td>\n",
       "      <td>Deep Neural Networks Do Not Recognize Negative...</td>\n",
       "      <td>Hossein Hosseini, Radha Poovendran</td>\n",
       "      <td></td>\n",
       "    </tr>\n",
       "    <tr>\n",
       "      <th>6</th>\n",
       "      <td>7</td>\n",
       "      <td>0.551567</td>\n",
       "      <td>Visual Servoing from Deep Neural Networks</td>\n",
       "      <td>Quentin Bateux, Eric Marchand, Jürgen Leitner,...</td>\n",
       "      <td></td>\n",
       "    </tr>\n",
       "    <tr>\n",
       "      <th>7</th>\n",
       "      <td>8</td>\n",
       "      <td>0.543075</td>\n",
       "      <td>Evolving Deep Neural Networks</td>\n",
       "      <td>Risto Miikkulainen, Jason Zhi Liang, Elliot Me...</td>\n",
       "      <td>arXiv: Neural and Evolutionary Computing</td>\n",
       "    </tr>\n",
       "    <tr>\n",
       "      <th>8</th>\n",
       "      <td>9</td>\n",
       "      <td>0.527680</td>\n",
       "      <td>Single Channel Speech Separation Using Deep Ne...</td>\n",
       "      <td>Linlin Chen, Xiaohong Ma, Shuxue Ding</td>\n",
       "      <td></td>\n",
       "    </tr>\n",
       "    <tr>\n",
       "      <th>9</th>\n",
       "      <td>10</td>\n",
       "      <td>0.526159</td>\n",
       "      <td>A Deep Learning Approach for Network Intrusion...</td>\n",
       "      <td>Ahmad Y. Javaid, Quamar Niyaz, Weiqing Sun, Ma...</td>\n",
       "      <td></td>\n",
       "    </tr>\n",
       "  </tbody>\n",
       "</table>\n",
       "</div>"
      ],
      "text/plain": [
       "   rank     score                                              title  \\\n",
       "0     1  0.734705  A tool for Emergency Detection with Deep Learn...   \n",
       "1     2  0.696641  Face Deidentification with Generative Deep Neu...   \n",
       "2     3  0.615467  Geographical topic learning for social images ...   \n",
       "3     4  0.614484           Toolkits and Libraries for Deep Learning   \n",
       "4     5  0.596158  PatternNet: Visual Pattern Mining with Deep Ne...   \n",
       "5     6  0.571471  Deep Neural Networks Do Not Recognize Negative...   \n",
       "6     7  0.551567          Visual Servoing from Deep Neural Networks   \n",
       "7     8  0.543075                      Evolving Deep Neural Networks   \n",
       "8     9  0.527680  Single Channel Speech Separation Using Deep Ne...   \n",
       "9    10  0.526159  A Deep Learning Approach for Network Intrusion...   \n",
       "\n",
       "                                             authors  \\\n",
       "0  Emanuele Cipolla, Riccardo Rizzo, Dario Stabil...   \n",
       "1  Blaž Meden, Refik Mallı, Sebastjan Fabijan, Ha...   \n",
       "2                              Jiangfan Feng, Xin Xu   \n",
       "3  Bradley J. Erickson, Panagiotis Korfiatis, Zey...   \n",
       "4  Hongzhi Li, Joseph G. Ellis, Lei Zhang, Shih-F...   \n",
       "5                 Hossein Hosseini, Radha Poovendran   \n",
       "6  Quentin Bateux, Eric Marchand, Jürgen Leitner,...   \n",
       "7  Risto Miikkulainen, Jason Zhi Liang, Elliot Me...   \n",
       "8              Linlin Chen, Xiaohong Ma, Shuxue Ding   \n",
       "9  Ahmad Y. Javaid, Quamar Niyaz, Weiqing Sun, Ma...   \n",
       "\n",
       "                                      venue  \n",
       "0                                            \n",
       "1                     Iet Signal Processing  \n",
       "2             Journal of Electronic Imaging  \n",
       "3                Journal of Digital Imaging  \n",
       "4                                            \n",
       "5                                            \n",
       "6                                            \n",
       "7  arXiv: Neural and Evolutionary Computing  \n",
       "8                                            \n",
       "9                                            "
      ]
     },
     "metadata": {},
     "output_type": "display_data"
    }
   ],
   "source": [
    "# 4. Recherche avec une requête d'exemple\n",
    "example_query = \"deep learning neural networks\"\n",
    "results = engine.search(example_query, top_k=10)\n",
    "print(\"\\nRésultats pour la requête:\", example_query)\n",
    "display(results[['rank', 'score', 'title', 'authors', 'venue']])"
   ]
  },
  {
   "cell_type": "markdown",
   "metadata": {},
   "source": [
    "## Essai avec d'autres requêtes"
   ]
  },
  {
   "cell_type": "code",
   "execution_count": 6,
   "metadata": {},
   "outputs": [
    {
     "name": "stdout",
     "output_type": "stream",
     "text": [
      "\n",
      "\n",
      "=== REQUÊTE: machine learning algorithms ===\n",
      "Recherche effectuée en 0.019 secondes\n",
      "Nombre de résultats: 5\n"
     ]
    },
    {
     "data": {
      "text/html": [
       "<div>\n",
       "<style scoped>\n",
       "    .dataframe tbody tr th:only-of-type {\n",
       "        vertical-align: middle;\n",
       "    }\n",
       "\n",
       "    .dataframe tbody tr th {\n",
       "        vertical-align: top;\n",
       "    }\n",
       "\n",
       "    .dataframe thead th {\n",
       "        text-align: right;\n",
       "    }\n",
       "</style>\n",
       "<table border=\"1\" class=\"dataframe\">\n",
       "  <thead>\n",
       "    <tr style=\"text-align: right;\">\n",
       "      <th></th>\n",
       "      <th>rank</th>\n",
       "      <th>score</th>\n",
       "      <th>title</th>\n",
       "      <th>venue</th>\n",
       "    </tr>\n",
       "  </thead>\n",
       "  <tbody>\n",
       "    <tr>\n",
       "      <th>0</th>\n",
       "      <td>1</td>\n",
       "      <td>0.535780</td>\n",
       "      <td>Machine Learning and Game Playing.</td>\n",
       "      <td></td>\n",
       "    </tr>\n",
       "    <tr>\n",
       "      <th>1</th>\n",
       "      <td>2</td>\n",
       "      <td>0.528983</td>\n",
       "      <td>Data Management Challenges in Production Machi...</td>\n",
       "      <td>international conference on management of data</td>\n",
       "    </tr>\n",
       "    <tr>\n",
       "      <th>2</th>\n",
       "      <td>3</td>\n",
       "      <td>0.513329</td>\n",
       "      <td>Machine learning and systems for the next fron...</td>\n",
       "      <td>formal methods in computer-aided design</td>\n",
       "    </tr>\n",
       "    <tr>\n",
       "      <th>3</th>\n",
       "      <td>4</td>\n",
       "      <td>0.504550</td>\n",
       "      <td>Machine Learning at Amazon</td>\n",
       "      <td>web search and data mining</td>\n",
       "    </tr>\n",
       "    <tr>\n",
       "      <th>4</th>\n",
       "      <td>5</td>\n",
       "      <td>0.469186</td>\n",
       "      <td>Detecting Encrypted Traffic: A Machine Learnin...</td>\n",
       "      <td>workshop on information security applications</td>\n",
       "    </tr>\n",
       "  </tbody>\n",
       "</table>\n",
       "</div>"
      ],
      "text/plain": [
       "   rank     score                                              title  \\\n",
       "0     1  0.535780                 Machine Learning and Game Playing.   \n",
       "1     2  0.528983  Data Management Challenges in Production Machi...   \n",
       "2     3  0.513329  Machine learning and systems for the next fron...   \n",
       "3     4  0.504550                         Machine Learning at Amazon   \n",
       "4     5  0.469186  Detecting Encrypted Traffic: A Machine Learnin...   \n",
       "\n",
       "                                            venue  \n",
       "0                                                  \n",
       "1  international conference on management of data  \n",
       "2         formal methods in computer-aided design  \n",
       "3                      web search and data mining  \n",
       "4   workshop on information security applications  "
      ]
     },
     "metadata": {},
     "output_type": "display_data"
    },
    {
     "name": "stdout",
     "output_type": "stream",
     "text": [
      "\n",
      "\n",
      "=== REQUÊTE: natural language processing ===\n",
      "Recherche effectuée en 0.019 secondes\n",
      "Nombre de résultats: 5\n"
     ]
    },
    {
     "data": {
      "text/html": [
       "<div>\n",
       "<style scoped>\n",
       "    .dataframe tbody tr th:only-of-type {\n",
       "        vertical-align: middle;\n",
       "    }\n",
       "\n",
       "    .dataframe tbody tr th {\n",
       "        vertical-align: top;\n",
       "    }\n",
       "\n",
       "    .dataframe thead th {\n",
       "        text-align: right;\n",
       "    }\n",
       "</style>\n",
       "<table border=\"1\" class=\"dataframe\">\n",
       "  <thead>\n",
       "    <tr style=\"text-align: right;\">\n",
       "      <th></th>\n",
       "      <th>rank</th>\n",
       "      <th>score</th>\n",
       "      <th>title</th>\n",
       "      <th>venue</th>\n",
       "    </tr>\n",
       "  </thead>\n",
       "  <tbody>\n",
       "    <tr>\n",
       "      <th>0</th>\n",
       "      <td>1</td>\n",
       "      <td>0.684850</td>\n",
       "      <td>Identifying Treatment Refusal Through Natural ...</td>\n",
       "      <td></td>\n",
       "    </tr>\n",
       "    <tr>\n",
       "      <th>1</th>\n",
       "      <td>2</td>\n",
       "      <td>0.677646</td>\n",
       "      <td>On The Difference Between Natural Language And...</td>\n",
       "      <td>conference on scientific computing</td>\n",
       "    </tr>\n",
       "    <tr>\n",
       "      <th>2</th>\n",
       "      <td>3</td>\n",
       "      <td>0.639001</td>\n",
       "      <td>Session 5: Natural Language I</td>\n",
       "      <td>north american chapter of the association for ...</td>\n",
       "    </tr>\n",
       "    <tr>\n",
       "      <th>3</th>\n",
       "      <td>4</td>\n",
       "      <td>0.629393</td>\n",
       "      <td>Improving the utility of social media with Nat...</td>\n",
       "      <td></td>\n",
       "    </tr>\n",
       "    <tr>\n",
       "      <th>4</th>\n",
       "      <td>5</td>\n",
       "      <td>0.612186</td>\n",
       "      <td>Using Natural Language to Search Linked Data.</td>\n",
       "      <td></td>\n",
       "    </tr>\n",
       "  </tbody>\n",
       "</table>\n",
       "</div>"
      ],
      "text/plain": [
       "   rank     score                                              title  \\\n",
       "0     1  0.684850  Identifying Treatment Refusal Through Natural ...   \n",
       "1     2  0.677646  On The Difference Between Natural Language And...   \n",
       "2     3  0.639001                      Session 5: Natural Language I   \n",
       "3     4  0.629393  Improving the utility of social media with Nat...   \n",
       "4     5  0.612186      Using Natural Language to Search Linked Data.   \n",
       "\n",
       "                                               venue  \n",
       "0                                                     \n",
       "1                 conference on scientific computing  \n",
       "2  north american chapter of the association for ...  \n",
       "3                                                     \n",
       "4                                                     "
      ]
     },
     "metadata": {},
     "output_type": "display_data"
    },
    {
     "name": "stdout",
     "output_type": "stream",
     "text": [
      "\n",
      "\n",
      "=== REQUÊTE: computer vision image recognition ===\n",
      "Recherche effectuée en 0.020 secondes\n",
      "Nombre de résultats: 5\n"
     ]
    },
    {
     "data": {
      "text/html": [
       "<div>\n",
       "<style scoped>\n",
       "    .dataframe tbody tr th:only-of-type {\n",
       "        vertical-align: middle;\n",
       "    }\n",
       "\n",
       "    .dataframe tbody tr th {\n",
       "        vertical-align: top;\n",
       "    }\n",
       "\n",
       "    .dataframe thead th {\n",
       "        text-align: right;\n",
       "    }\n",
       "</style>\n",
       "<table border=\"1\" class=\"dataframe\">\n",
       "  <thead>\n",
       "    <tr style=\"text-align: right;\">\n",
       "      <th></th>\n",
       "      <th>rank</th>\n",
       "      <th>score</th>\n",
       "      <th>title</th>\n",
       "      <th>venue</th>\n",
       "    </tr>\n",
       "  </thead>\n",
       "  <tbody>\n",
       "    <tr>\n",
       "      <th>0</th>\n",
       "      <td>1</td>\n",
       "      <td>0.480661</td>\n",
       "      <td>RGB-D Computer Vision Techniques for Simulated...</td>\n",
       "      <td></td>\n",
       "    </tr>\n",
       "    <tr>\n",
       "      <th>1</th>\n",
       "      <td>2</td>\n",
       "      <td>0.455820</td>\n",
       "      <td>Explainable Image Understanding Using Vision a...</td>\n",
       "      <td>national conference on artificial intelligence</td>\n",
       "    </tr>\n",
       "    <tr>\n",
       "      <th>2</th>\n",
       "      <td>3</td>\n",
       "      <td>0.432759</td>\n",
       "      <td>Vision Based Hand Gesture Recognition for Mobi...</td>\n",
       "      <td></td>\n",
       "    </tr>\n",
       "    <tr>\n",
       "      <th>3</th>\n",
       "      <td>4</td>\n",
       "      <td>0.404378</td>\n",
       "      <td>Aligned Image-Word Representations Improve Ind...</td>\n",
       "      <td>arXiv: Computer Vision and Pattern Recognition</td>\n",
       "    </tr>\n",
       "    <tr>\n",
       "      <th>4</th>\n",
       "      <td>5</td>\n",
       "      <td>0.398590</td>\n",
       "      <td>Collaborative image triage with humans and com...</td>\n",
       "      <td>systems, man and cybernetics</td>\n",
       "    </tr>\n",
       "  </tbody>\n",
       "</table>\n",
       "</div>"
      ],
      "text/plain": [
       "   rank     score                                              title  \\\n",
       "0     1  0.480661  RGB-D Computer Vision Techniques for Simulated...   \n",
       "1     2  0.455820  Explainable Image Understanding Using Vision a...   \n",
       "2     3  0.432759  Vision Based Hand Gesture Recognition for Mobi...   \n",
       "3     4  0.404378  Aligned Image-Word Representations Improve Ind...   \n",
       "4     5  0.398590  Collaborative image triage with humans and com...   \n",
       "\n",
       "                                            venue  \n",
       "0                                                  \n",
       "1  national conference on artificial intelligence  \n",
       "2                                                  \n",
       "3  arXiv: Computer Vision and Pattern Recognition  \n",
       "4                    systems, man and cybernetics  "
      ]
     },
     "metadata": {},
     "output_type": "display_data"
    }
   ],
   "source": [
    "# 5. Essai avec d'autres requêtes\n",
    "# Testez avec vos propres requêtes\n",
    "test_queries = [\n",
    "    \"machine learning algorithms\",\n",
    "    \"natural language processing\",\n",
    "    \"computer vision image recognition\"\n",
    "]\n",
    "\n",
    "for query in test_queries:\n",
    "    print(f\"\\n\\n=== REQUÊTE: {query} ===\")\n",
    "    results = engine.search(query, top_k=5)\n",
    "    display(results[['rank', 'score', 'title', 'venue']])\n"
   ]
  },
  {
   "cell_type": "markdown",
   "metadata": {},
   "source": [
    "## Comparaison des différentes configurations"
   ]
  },
  {
   "cell_type": "code",
   "execution_count": 7,
   "metadata": {},
   "outputs": [
    {
     "name": "stdout",
     "output_type": "stream",
     "text": [
      "Vectorisation des documents avec Configuration: TF-IDF, Stemming, sans stopwords, min_df=5, max_df=0.95, similarité=cosine, vocabulaire=Pas de limite...\n"
     ]
    },
    {
     "name": "stderr",
     "output_type": "stream",
     "text": [
      "c:\\Users\\pc190\\Anaconda\\Lib\\site-packages\\sklearn\\feature_extraction\\text.py:517: UserWarning: The parameter 'token_pattern' will not be used since 'tokenizer' is not None'\n",
      "  warnings.warn(\n",
      "c:\\Users\\pc190\\Anaconda\\Lib\\site-packages\\sklearn\\feature_extraction\\text.py:402: UserWarning: Your stop_words may be inconsistent with your preprocessing. Tokenizing the stop words generated tokens ['abov', 'analysi', 'ani', 'base', 'becaus', 'befor', 'doe', 'dure', 'figur', 'ha', 'hi', 'onc', 'onli', 'ourselv', 'propos', 'result', 'studi', 'tabl', 'themselv', 'thi', 'use', 'veri', 'wa', 'whi', 'yourselv'] not in stop_words.\n",
      "  warnings.warn(\n"
     ]
    },
    {
     "name": "stdout",
     "output_type": "stream",
     "text": [
      "Matrice documents-termes: 23702 documents × 7666 termes\n",
      "Densité de la matrice: 0.0053\n",
      "Vectorisation des documents avec Configuration: TF, Stemming, sans stopwords, min_df=5, max_df=0.95, similarité=cosine, vocabulaire=Pas de limite...\n",
      "Matrice documents-termes: 23702 documents × 7666 termes\n",
      "Densité de la matrice: 0.0053\n",
      "Vectorisation des documents avec Configuration: TF-IDF, Stemming, sans stopwords, min_df=5, max_df=0.95, similarité=cosine, vocabulaire=500 mots...\n",
      "Matrice documents-termes: 23702 documents × 500 termes\n",
      "Densité de la matrice: 0.0493\n",
      "Vectorisation des documents avec Configuration: TF-IDF, Stemming, sans stopwords, min_df=5, max_df=0.95, similarité=cosine, vocabulaire=5000 mots...\n",
      "Matrice documents-termes: 23702 documents × 5000 termes\n",
      "Densité de la matrice: 0.0080\n",
      "Vectorisation des documents avec Configuration: TF-IDF, Stemming, avec stopwords, min_df=5, max_df=0.95, similarité=cosine, vocabulaire=Pas de limite...\n",
      "Matrice documents-termes: 23702 documents × 7790 termes\n",
      "Densité de la matrice: 0.0071\n",
      "Vectorisation des documents avec Configuration: TF-IDF, Stemming, sans stopwords, min_df=5, max_df=0.95, similarité=euclidean, vocabulaire=Pas de limite...\n",
      "Matrice documents-termes: 23702 documents × 7666 termes\n",
      "Densité de la matrice: 0.0053\n",
      "\n",
      "=== Configuration: TF-IDF, Stemming, sans stopwords, min_df=5, max_df=0.95, similarité=cosine, vocabulaire=Pas de limite ===\n",
      "Recherche effectuée en 0.018 secondes\n",
      "Nombre de résultats: 5\n",
      "\n",
      "Top résultats:\n",
      "1. [0.7347] A tool for Emergency Detection with Deep Learning Neural Networks.\n",
      "   Auteurs: Emanuele Cipolla, Riccardo Rizzo, Dario Stabile, Filippo Vella\n",
      "   Venue:  (2016)\n",
      "   Abstract: ...\n",
      "2. [0.6966] Face Deidentification with Generative Deep Neural Networks\n",
      "   Auteurs: Blaž Meden, Refik Mallı, Sebastjan Fabijan, Hazim Kemal Ekenel, Vitomir Štruc, Peter Peer\n",
      "   Venue: Iet Signal Processing (2017)\n",
      "   Abstract: ...\n",
      "3. [0.6155] Geographical topic learning for social images with a deep neural network\n",
      "   Auteurs: Jiangfan Feng, Xin Xu\n",
      "   Venue: Journal of Electronic Imaging (2017)\n",
      "   Abstract: ...\n",
      "4. [0.6145] Toolkits and Libraries for Deep Learning\n",
      "   Auteurs: Bradley J. Erickson, Panagiotis Korfiatis, Zeynettin Akkus, Timothy L. Kline, Kenneth Philbrick\n",
      "   Venue: Journal of Digital Imaging (2017)\n",
      "   Abstract: Deep learning is an important new area of machine learning which encompasses a wide range of neural network architectures designed to complete various...\n",
      "5. [0.5962] PatternNet: Visual Pattern Mining with Deep Neural Network\n",
      "   Auteurs: Hongzhi Li, Joseph G. Ellis, Lei Zhang, Shih-Fu Chang\n",
      "   Venue:  (2017)\n",
      "   Abstract: ...\n",
      "\n",
      "Explication du premier résultat:\n",
      "\n",
      "=== Configuration: TF, Stemming, sans stopwords, min_df=5, max_df=0.95, similarité=cosine, vocabulaire=Pas de limite ===\n",
      "Recherche effectuée en 0.040 secondes\n",
      "Nombre de résultats: 5\n",
      "\n",
      "Top résultats:\n",
      "1. [0.7559] A tool for Emergency Detection with Deep Learning Neural Networks.\n",
      "   Auteurs: Emanuele Cipolla, Riccardo Rizzo, Dario Stabile, Filippo Vella\n",
      "   Venue:  (2016)\n",
      "   Abstract: ...\n",
      "2. [0.7071] Geographical topic learning for social images with a deep neural network\n",
      "   Auteurs: Jiangfan Feng, Xin Xu\n",
      "   Venue: Journal of Electronic Imaging (2017)\n",
      "   Abstract: ...\n",
      "3. [0.6708] Face Deidentification with Generative Deep Neural Networks\n",
      "   Auteurs: Blaž Meden, Refik Mallı, Sebastjan Fabijan, Hazim Kemal Ekenel, Vitomir Štruc, Peter Peer\n",
      "   Venue: Iet Signal Processing (2017)\n",
      "   Abstract: ...\n",
      "4. [0.6708] Visual Servoing from Deep Neural Networks\n",
      "   Auteurs: Quentin Bateux, Eric Marchand, Jürgen Leitner, François Chaumette\n",
      "   Venue:  (2017)\n",
      "   Abstract: ...\n",
      "5. [0.6708] Learning to Map Ontologies with Neural Network\n",
      "   Auteurs: Yefei Peng, Paul W. Munro, Ming Mao\n",
      "   Venue:  (2008)\n",
      "   Abstract: ...\n",
      "\n",
      "Explication du premier résultat:\n",
      "\n",
      "=== Configuration: TF-IDF, Stemming, sans stopwords, min_df=5, max_df=0.95, similarité=cosine, vocabulaire=500 mots ===\n",
      "Recherche effectuée en 0.011 secondes\n",
      "Nombre de résultats: 5\n",
      "\n",
      "Top résultats:\n",
      "1. [0.8604] LightNN: Filling the Gap between Conventional Deep Neural Networks and Binarized Networks\n",
      "   Auteurs: Ruizhou Ding, Zeye Dexter Liu, Rongye Shi, Diana Marculescu, Ronald D. Blanton\n",
      "   Venue: great lakes symposium on vlsi (2017)\n",
      "   Abstract: ...\n",
      "2. [0.8321] Mimicking Ensemble Learning with Deep Branched Networks\n",
      "   Auteurs: Byungju Kim, Youngsoo Kim, Yeakang Lee, Junmo Kim\n",
      "   Venue:  (2017)\n",
      "   Abstract: ...\n",
      "3. [0.8057] Geographical topic learning for social images with a deep neural network\n",
      "   Auteurs: Jiangfan Feng, Xin Xu\n",
      "   Venue: Journal of Electronic Imaging (2017)\n",
      "   Abstract: ...\n",
      "4. [0.8021] Multimodal Sentiment Analysis Using Deep Neural Networks.\n",
      "   Auteurs: Harika Abburi, Rajendra Prasath, Manish Shrivastava, Suryakanth V. Gangashetty\n",
      "   Venue:  (2016)\n",
      "   Abstract: ...\n",
      "5. [0.7997] Deep Neural Networks Do Not Recognize Negative Images\n",
      "   Auteurs: Hossein Hosseini, Radha Poovendran\n",
      "   Venue:  (2017)\n",
      "   Abstract: ...\n",
      "\n",
      "Explication du premier résultat:\n",
      "\n",
      "=== Configuration: TF-IDF, Stemming, sans stopwords, min_df=5, max_df=0.95, similarité=cosine, vocabulaire=5000 mots ===\n",
      "Recherche effectuée en 0.017 secondes\n",
      "Nombre de résultats: 5\n",
      "\n",
      "Top résultats:\n",
      "1. [0.7347] A tool for Emergency Detection with Deep Learning Neural Networks.\n",
      "   Auteurs: Emanuele Cipolla, Riccardo Rizzo, Dario Stabile, Filippo Vella\n",
      "   Venue:  (2016)\n",
      "   Abstract: ...\n",
      "2. [0.7050] Comparing Deep and Dendrite Neural Networks: A Case Study.\n",
      "   Auteurs: Gerardo Hernández, Erik Zamora, Humberto Sossa\n",
      "   Venue:  (2017)\n",
      "   Abstract: ...\n",
      "3. [0.6966] Face Deidentification with Generative Deep Neural Networks\n",
      "   Auteurs: Blaž Meden, Refik Mallı, Sebastjan Fabijan, Hazim Kemal Ekenel, Vitomir Štruc, Peter Peer\n",
      "   Venue: Iet Signal Processing (2017)\n",
      "   Abstract: ...\n",
      "4. [0.6155] Geographical topic learning for social images with a deep neural network\n",
      "   Auteurs: Jiangfan Feng, Xin Xu\n",
      "   Venue: Journal of Electronic Imaging (2017)\n",
      "   Abstract: ...\n",
      "5. [0.6145] Toolkits and Libraries for Deep Learning\n",
      "   Auteurs: Bradley J. Erickson, Panagiotis Korfiatis, Zeynettin Akkus, Timothy L. Kline, Kenneth Philbrick\n",
      "   Venue: Journal of Digital Imaging (2017)\n",
      "   Abstract: Deep learning is an important new area of machine learning which encompasses a wide range of neural network architectures designed to complete various...\n",
      "\n",
      "Explication du premier résultat:\n",
      "\n",
      "=== Configuration: TF-IDF, Stemming, avec stopwords, min_df=5, max_df=0.95, similarité=cosine, vocabulaire=Pas de limite ===\n",
      "Recherche effectuée en 0.026 secondes\n",
      "Nombre de résultats: 5\n",
      "\n",
      "Top résultats:\n",
      "1. [0.7105] A tool for Emergency Detection with Deep Learning Neural Networks.\n",
      "   Auteurs: Emanuele Cipolla, Riccardo Rizzo, Dario Stabile, Filippo Vella\n",
      "   Venue:  (2016)\n",
      "   Abstract: ...\n",
      "2. [0.6828] Face Deidentification with Generative Deep Neural Networks\n",
      "   Auteurs: Blaž Meden, Refik Mallı, Sebastjan Fabijan, Hazim Kemal Ekenel, Vitomir Štruc, Peter Peer\n",
      "   Venue: Iet Signal Processing (2017)\n",
      "   Abstract: ...\n",
      "3. [0.6010] Geographical topic learning for social images with a deep neural network\n",
      "   Auteurs: Jiangfan Feng, Xin Xu\n",
      "   Venue: Journal of Electronic Imaging (2017)\n",
      "   Abstract: ...\n",
      "4. [0.5874] PatternNet: Visual Pattern Mining with Deep Neural Network\n",
      "   Auteurs: Hongzhi Li, Joseph G. Ellis, Lei Zhang, Shih-Fu Chang\n",
      "   Venue:  (2017)\n",
      "   Abstract: ...\n",
      "5. [0.5697] Toolkits and Libraries for Deep Learning\n",
      "   Auteurs: Bradley J. Erickson, Panagiotis Korfiatis, Zeynettin Akkus, Timothy L. Kline, Kenneth Philbrick\n",
      "   Venue: Journal of Digital Imaging (2017)\n",
      "   Abstract: Deep learning is an important new area of machine learning which encompasses a wide range of neural network architectures designed to complete various...\n",
      "\n",
      "Explication du premier résultat:\n",
      "\n",
      "=== Configuration: TF-IDF, Stemming, sans stopwords, min_df=5, max_df=0.95, similarité=euclidean, vocabulaire=Pas de limite ===\n",
      "Recherche effectuée en 0.015 secondes\n",
      "Nombre de résultats: 5\n",
      "\n",
      "Top résultats:\n",
      "1. [0.5786] A tool for Emergency Detection with Deep Learning Neural Networks.\n",
      "   Auteurs: Emanuele Cipolla, Riccardo Rizzo, Dario Stabile, Filippo Vella\n",
      "   Venue:  (2016)\n",
      "   Abstract: ...\n",
      "2. [0.5621] Face Deidentification with Generative Deep Neural Networks\n",
      "   Auteurs: Blaž Meden, Refik Mallı, Sebastjan Fabijan, Hazim Kemal Ekenel, Vitomir Štruc, Peter Peer\n",
      "   Venue: Iet Signal Processing (2017)\n",
      "   Abstract: ...\n",
      "3. [0.5328] Geographical topic learning for social images with a deep neural network\n",
      "   Auteurs: Jiangfan Feng, Xin Xu\n",
      "   Venue: Journal of Electronic Imaging (2017)\n",
      "   Abstract: ...\n",
      "4. [0.5325] Toolkits and Libraries for Deep Learning\n",
      "   Auteurs: Bradley J. Erickson, Panagiotis Korfiatis, Zeynettin Akkus, Timothy L. Kline, Kenneth Philbrick\n",
      "   Venue: Journal of Digital Imaging (2017)\n",
      "   Abstract: Deep learning is an important new area of machine learning which encompasses a wide range of neural network architectures designed to complete various...\n",
      "5. [0.5267] PatternNet: Visual Pattern Mining with Deep Neural Network\n",
      "   Auteurs: Hongzhi Li, Joseph G. Ellis, Lei Zhang, Shih-Fu Chang\n",
      "   Venue:  (2017)\n",
      "   Abstract: ...\n",
      "\n",
      "Explication du premier résultat:\n"
     ]
    },
    {
     "data": {
      "image/png": "[encoded data removed]",
      "text/plain": [
       "<Figure size 1400x800 with 6 Axes>"
      ]
     },
     "metadata": {},
     "output_type": "display_data"
    }
   ],
   "source": [
    "# 6. Comparaison des différentes configurations\n",
    "# Créez et entraînez différentes variantes du moteur de recherche\n",
    "variants = create_search_engine_variants()\n",
    "for variant in variants:\n",
    "    variant.fit(df)\n",
    "\n",
    "# Choisissez une requête test\n",
    "test_query = \"deep learning neural networks\"\n",
    "\n",
    "# Comparez les résultats\n",
    "compare_results = compare_search_results(variants, test_query)\n",
    "\n",
    "# Visualisez l'importance des termes dans les différentes configurations\n",
    "visualize_term_importance(variants, test_query)\n"
   ]
  },
  {
   "cell_type": "markdown",
   "metadata": {},
   "source": [
    "## Interface interactive"
   ]
  },
  {
   "cell_type": "code",
   "execution_count": null,
   "metadata": {},
   "outputs": [
    {
     "name": "stdout",
     "output_type": "stream",
     "text": [
      "\n",
      "===== MOTEUR DE RECHERCHE D'ARTICLES SCIENTIFIQUES =====\n",
      "Configuration: TF-IDF, Stemming, sans stopwords, min_df=5, max_df=0.95, similarité=cosine, vocabulaire=Pas de limite\n",
      "\n",
      "Taille du vocabulaire: 13763\n",
      "Nombre total d'articles: 79007\n",
      "\n",
      "Entrez votre requête (ou 'q' pour quitter):\n"
     ]
    }
   ],
   "source": [
    "# 7. Interface interactive\n",
    "search_interface(engine)"
   ]
  }
 ],
 "metadata": {
  "kernelspec": {
   "display_name": "base",
   "language": "python",
   "name": "python3"
  },
  "language_info": {
   "codemirror_mode": {
    "name": "ipython",
    "version": 3
   },
   "file_extension": ".py",
   "mimetype": "text/x-python",
   "name": "python",
   "nbconvert_exporter": "python",
   "pygments_lexer": "ipython3",
   "version": "3.12.7"
  }
 },
 "nbformat": 4,
 "nbformat_minor": 2
}
